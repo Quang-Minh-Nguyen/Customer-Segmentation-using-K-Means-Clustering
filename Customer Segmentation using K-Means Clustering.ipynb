{
 "cells": [
  {
   "cell_type": "code",
   "execution_count": 63,
   "id": "fc071ff2",
   "metadata": {},
   "outputs": [],
   "source": [
    "import pandas as pd\n",
    "import matplotlib.pyplot as plt\n",
    "import seaborn as sns\n",
    "import numpy as np "
   ]
  },
  {
   "cell_type": "code",
   "execution_count": 17,
   "id": "312219cc",
   "metadata": {},
   "outputs": [],
   "source": [
    "data = pd.read_csv('Mall_Customers.csv')"
   ]
  },
  {
   "cell_type": "markdown",
   "id": "cdb36728",
   "metadata": {},
   "source": [
    "# 1. Check the data imported"
   ]
  },
  {
   "cell_type": "code",
   "execution_count": 18,
   "id": "f23aa9b0",
   "metadata": {},
   "outputs": [
    {
     "data": {
      "text/html": [
       "<div>\n",
       "<style scoped>\n",
       "    .dataframe tbody tr th:only-of-type {\n",
       "        vertical-align: middle;\n",
       "    }\n",
       "\n",
       "    .dataframe tbody tr th {\n",
       "        vertical-align: top;\n",
       "    }\n",
       "\n",
       "    .dataframe thead th {\n",
       "        text-align: right;\n",
       "    }\n",
       "</style>\n",
       "<table border=\"1\" class=\"dataframe\">\n",
       "  <thead>\n",
       "    <tr style=\"text-align: right;\">\n",
       "      <th></th>\n",
       "      <th>CustomerID</th>\n",
       "      <th>Gender</th>\n",
       "      <th>Age</th>\n",
       "      <th>Annual Income (k$)</th>\n",
       "      <th>Spending Score (1-100)</th>\n",
       "    </tr>\n",
       "  </thead>\n",
       "  <tbody>\n",
       "    <tr>\n",
       "      <th>0</th>\n",
       "      <td>1</td>\n",
       "      <td>Male</td>\n",
       "      <td>19</td>\n",
       "      <td>15</td>\n",
       "      <td>39</td>\n",
       "    </tr>\n",
       "    <tr>\n",
       "      <th>1</th>\n",
       "      <td>2</td>\n",
       "      <td>Male</td>\n",
       "      <td>21</td>\n",
       "      <td>15</td>\n",
       "      <td>81</td>\n",
       "    </tr>\n",
       "    <tr>\n",
       "      <th>2</th>\n",
       "      <td>3</td>\n",
       "      <td>Female</td>\n",
       "      <td>20</td>\n",
       "      <td>16</td>\n",
       "      <td>6</td>\n",
       "    </tr>\n",
       "    <tr>\n",
       "      <th>3</th>\n",
       "      <td>4</td>\n",
       "      <td>Female</td>\n",
       "      <td>23</td>\n",
       "      <td>16</td>\n",
       "      <td>77</td>\n",
       "    </tr>\n",
       "    <tr>\n",
       "      <th>4</th>\n",
       "      <td>5</td>\n",
       "      <td>Female</td>\n",
       "      <td>31</td>\n",
       "      <td>17</td>\n",
       "      <td>40</td>\n",
       "    </tr>\n",
       "  </tbody>\n",
       "</table>\n",
       "</div>"
      ],
      "text/plain": [
       "   CustomerID  Gender  Age  Annual Income (k$)  Spending Score (1-100)\n",
       "0           1    Male   19                  15                      39\n",
       "1           2    Male   21                  15                      81\n",
       "2           3  Female   20                  16                       6\n",
       "3           4  Female   23                  16                      77\n",
       "4           5  Female   31                  17                      40"
      ]
     },
     "execution_count": 18,
     "metadata": {},
     "output_type": "execute_result"
    }
   ],
   "source": [
    "data.head()"
   ]
  },
  {
   "cell_type": "code",
   "execution_count": 19,
   "id": "8594552b",
   "metadata": {},
   "outputs": [
    {
     "data": {
      "text/html": [
       "<div>\n",
       "<style scoped>\n",
       "    .dataframe tbody tr th:only-of-type {\n",
       "        vertical-align: middle;\n",
       "    }\n",
       "\n",
       "    .dataframe tbody tr th {\n",
       "        vertical-align: top;\n",
       "    }\n",
       "\n",
       "    .dataframe thead th {\n",
       "        text-align: right;\n",
       "    }\n",
       "</style>\n",
       "<table border=\"1\" class=\"dataframe\">\n",
       "  <thead>\n",
       "    <tr style=\"text-align: right;\">\n",
       "      <th></th>\n",
       "      <th>CustomerID</th>\n",
       "      <th>Gender</th>\n",
       "      <th>Age</th>\n",
       "      <th>Annual Income (k$)</th>\n",
       "      <th>Spending Score (1-100)</th>\n",
       "    </tr>\n",
       "  </thead>\n",
       "  <tbody>\n",
       "    <tr>\n",
       "      <th>195</th>\n",
       "      <td>196</td>\n",
       "      <td>Female</td>\n",
       "      <td>35</td>\n",
       "      <td>120</td>\n",
       "      <td>79</td>\n",
       "    </tr>\n",
       "    <tr>\n",
       "      <th>196</th>\n",
       "      <td>197</td>\n",
       "      <td>Female</td>\n",
       "      <td>45</td>\n",
       "      <td>126</td>\n",
       "      <td>28</td>\n",
       "    </tr>\n",
       "    <tr>\n",
       "      <th>197</th>\n",
       "      <td>198</td>\n",
       "      <td>Male</td>\n",
       "      <td>32</td>\n",
       "      <td>126</td>\n",
       "      <td>74</td>\n",
       "    </tr>\n",
       "    <tr>\n",
       "      <th>198</th>\n",
       "      <td>199</td>\n",
       "      <td>Male</td>\n",
       "      <td>32</td>\n",
       "      <td>137</td>\n",
       "      <td>18</td>\n",
       "    </tr>\n",
       "    <tr>\n",
       "      <th>199</th>\n",
       "      <td>200</td>\n",
       "      <td>Male</td>\n",
       "      <td>30</td>\n",
       "      <td>137</td>\n",
       "      <td>83</td>\n",
       "    </tr>\n",
       "  </tbody>\n",
       "</table>\n",
       "</div>"
      ],
      "text/plain": [
       "     CustomerID  Gender  Age  Annual Income (k$)  Spending Score (1-100)\n",
       "195         196  Female   35                 120                      79\n",
       "196         197  Female   45                 126                      28\n",
       "197         198    Male   32                 126                      74\n",
       "198         199    Male   32                 137                      18\n",
       "199         200    Male   30                 137                      83"
      ]
     },
     "execution_count": 19,
     "metadata": {},
     "output_type": "execute_result"
    }
   ],
   "source": [
    "data.tail()"
   ]
  },
  {
   "cell_type": "markdown",
   "id": "b895926d",
   "metadata": {},
   "source": [
    "# 2. Check the information of the data"
   ]
  },
  {
   "cell_type": "code",
   "execution_count": 20,
   "id": "33e859e3",
   "metadata": {},
   "outputs": [
    {
     "name": "stdout",
     "output_type": "stream",
     "text": [
      "<class 'pandas.core.frame.DataFrame'>\n",
      "RangeIndex: 200 entries, 0 to 199\n",
      "Data columns (total 5 columns):\n",
      " #   Column                  Non-Null Count  Dtype \n",
      "---  ------                  --------------  ----- \n",
      " 0   CustomerID              200 non-null    int64 \n",
      " 1   Gender                  200 non-null    object\n",
      " 2   Age                     200 non-null    int64 \n",
      " 3   Annual Income (k$)      200 non-null    int64 \n",
      " 4   Spending Score (1-100)  200 non-null    int64 \n",
      "dtypes: int64(4), object(1)\n",
      "memory usage: 7.9+ KB\n"
     ]
    }
   ],
   "source": [
    "data.info()"
   ]
  },
  {
   "cell_type": "markdown",
   "id": "e5a5d3be",
   "metadata": {},
   "source": [
    "The dataset consists of 5 columns and 200 rows. Looking at **the dtype of columns**, there is **1 column** with *categorical value* (which is **\"gender\"**) and **other columns** have *continuous value*.\n",
    "\n",
    "Since I only focus on **\"Annual Income\" and \"Spending Score\"**, I will drop irrelavant columns which are **\"CustomerID\", \"Gender\" and \"Age\"**."
   ]
  },
  {
   "cell_type": "code",
   "execution_count": 21,
   "id": "74b3a524",
   "metadata": {},
   "outputs": [],
   "source": [
    "data = data.iloc[:,[3,4]]"
   ]
  },
  {
   "cell_type": "markdown",
   "id": "1a9d083c",
   "metadata": {},
   "source": [
    "# 3. Check duplicated value"
   ]
  },
  {
   "cell_type": "code",
   "execution_count": 22,
   "id": "9c68e4fe",
   "metadata": {},
   "outputs": [
    {
     "data": {
      "text/plain": [
       "4"
      ]
     },
     "execution_count": 22,
     "metadata": {},
     "output_type": "execute_result"
    }
   ],
   "source": [
    "data.duplicated().sum()"
   ]
  },
  {
   "cell_type": "markdown",
   "id": "bbae62b0",
   "metadata": {},
   "source": [
    "There is **no duplicated data**. I do not have to drop any."
   ]
  },
  {
   "cell_type": "markdown",
   "id": "6ad33966",
   "metadata": {},
   "source": [
    "# 4. Check the overall statistics of the dataset "
   ]
  },
  {
   "cell_type": "code",
   "execution_count": 23,
   "id": "dc142115",
   "metadata": {},
   "outputs": [
    {
     "data": {
      "text/html": [
       "<div>\n",
       "<style scoped>\n",
       "    .dataframe tbody tr th:only-of-type {\n",
       "        vertical-align: middle;\n",
       "    }\n",
       "\n",
       "    .dataframe tbody tr th {\n",
       "        vertical-align: top;\n",
       "    }\n",
       "\n",
       "    .dataframe thead th {\n",
       "        text-align: right;\n",
       "    }\n",
       "</style>\n",
       "<table border=\"1\" class=\"dataframe\">\n",
       "  <thead>\n",
       "    <tr style=\"text-align: right;\">\n",
       "      <th></th>\n",
       "      <th>Annual Income (k$)</th>\n",
       "      <th>Spending Score (1-100)</th>\n",
       "    </tr>\n",
       "  </thead>\n",
       "  <tbody>\n",
       "    <tr>\n",
       "      <th>count</th>\n",
       "      <td>200.000000</td>\n",
       "      <td>200.000000</td>\n",
       "    </tr>\n",
       "    <tr>\n",
       "      <th>mean</th>\n",
       "      <td>60.560000</td>\n",
       "      <td>50.200000</td>\n",
       "    </tr>\n",
       "    <tr>\n",
       "      <th>std</th>\n",
       "      <td>26.264721</td>\n",
       "      <td>25.823522</td>\n",
       "    </tr>\n",
       "    <tr>\n",
       "      <th>min</th>\n",
       "      <td>15.000000</td>\n",
       "      <td>1.000000</td>\n",
       "    </tr>\n",
       "    <tr>\n",
       "      <th>25%</th>\n",
       "      <td>41.500000</td>\n",
       "      <td>34.750000</td>\n",
       "    </tr>\n",
       "    <tr>\n",
       "      <th>50%</th>\n",
       "      <td>61.500000</td>\n",
       "      <td>50.000000</td>\n",
       "    </tr>\n",
       "    <tr>\n",
       "      <th>75%</th>\n",
       "      <td>78.000000</td>\n",
       "      <td>73.000000</td>\n",
       "    </tr>\n",
       "    <tr>\n",
       "      <th>max</th>\n",
       "      <td>137.000000</td>\n",
       "      <td>99.000000</td>\n",
       "    </tr>\n",
       "  </tbody>\n",
       "</table>\n",
       "</div>"
      ],
      "text/plain": [
       "       Annual Income (k$)  Spending Score (1-100)\n",
       "count          200.000000              200.000000\n",
       "mean            60.560000               50.200000\n",
       "std             26.264721               25.823522\n",
       "min             15.000000                1.000000\n",
       "25%             41.500000               34.750000\n",
       "50%             61.500000               50.000000\n",
       "75%             78.000000               73.000000\n",
       "max            137.000000               99.000000"
      ]
     },
     "execution_count": 23,
     "metadata": {},
     "output_type": "execute_result"
    }
   ],
   "source": [
    "data.describe()"
   ]
  },
  {
   "cell_type": "markdown",
   "id": "a9a5169b",
   "metadata": {},
   "source": [
    "It is time to **scale the continuous value**. Based on the statistics of the two variables, both \"Annual Income\" and \"Spending Score\" have different ranges, with \"Annual Income\" ranging from 15 to 137, and \"Spending Score\" ranging from 1 to 99.\n",
    "\n",
    "In this case, **normalization** is an appropriate scaling method as it scales the variables between 0 and 1, which helps in handling variables with different ranges."
   ]
  },
  {
   "cell_type": "code",
   "execution_count": 24,
   "id": "760d80c4",
   "metadata": {},
   "outputs": [],
   "source": [
    "from sklearn.preprocessing import MinMaxScaler"
   ]
  },
  {
   "cell_type": "code",
   "execution_count": 25,
   "id": "29a409f6",
   "metadata": {},
   "outputs": [],
   "source": [
    "scaler = MinMaxScaler()\n",
    "data[data.columns] = scaler.fit_transform(data[data.columns])"
   ]
  },
  {
   "cell_type": "code",
   "execution_count": 26,
   "id": "6b9b1bae",
   "metadata": {},
   "outputs": [
    {
     "data": {
      "text/html": [
       "<div>\n",
       "<style scoped>\n",
       "    .dataframe tbody tr th:only-of-type {\n",
       "        vertical-align: middle;\n",
       "    }\n",
       "\n",
       "    .dataframe tbody tr th {\n",
       "        vertical-align: top;\n",
       "    }\n",
       "\n",
       "    .dataframe thead th {\n",
       "        text-align: right;\n",
       "    }\n",
       "</style>\n",
       "<table border=\"1\" class=\"dataframe\">\n",
       "  <thead>\n",
       "    <tr style=\"text-align: right;\">\n",
       "      <th></th>\n",
       "      <th>Annual Income (k$)</th>\n",
       "      <th>Spending Score (1-100)</th>\n",
       "    </tr>\n",
       "  </thead>\n",
       "  <tbody>\n",
       "    <tr>\n",
       "      <th>count</th>\n",
       "      <td>200.000000</td>\n",
       "      <td>200.000000</td>\n",
       "    </tr>\n",
       "    <tr>\n",
       "      <th>mean</th>\n",
       "      <td>0.373443</td>\n",
       "      <td>0.502041</td>\n",
       "    </tr>\n",
       "    <tr>\n",
       "      <th>std</th>\n",
       "      <td>0.215285</td>\n",
       "      <td>0.263505</td>\n",
       "    </tr>\n",
       "    <tr>\n",
       "      <th>min</th>\n",
       "      <td>0.000000</td>\n",
       "      <td>0.000000</td>\n",
       "    </tr>\n",
       "    <tr>\n",
       "      <th>25%</th>\n",
       "      <td>0.217213</td>\n",
       "      <td>0.344388</td>\n",
       "    </tr>\n",
       "    <tr>\n",
       "      <th>50%</th>\n",
       "      <td>0.381148</td>\n",
       "      <td>0.500000</td>\n",
       "    </tr>\n",
       "    <tr>\n",
       "      <th>75%</th>\n",
       "      <td>0.516393</td>\n",
       "      <td>0.734694</td>\n",
       "    </tr>\n",
       "    <tr>\n",
       "      <th>max</th>\n",
       "      <td>1.000000</td>\n",
       "      <td>1.000000</td>\n",
       "    </tr>\n",
       "  </tbody>\n",
       "</table>\n",
       "</div>"
      ],
      "text/plain": [
       "       Annual Income (k$)  Spending Score (1-100)\n",
       "count          200.000000              200.000000\n",
       "mean             0.373443                0.502041\n",
       "std              0.215285                0.263505\n",
       "min              0.000000                0.000000\n",
       "25%              0.217213                0.344388\n",
       "50%              0.381148                0.500000\n",
       "75%              0.516393                0.734694\n",
       "max              1.000000                1.000000"
      ]
     },
     "execution_count": 26,
     "metadata": {},
     "output_type": "execute_result"
    }
   ],
   "source": [
    "data.describe()"
   ]
  },
  {
   "cell_type": "markdown",
   "id": "9e64736a",
   "metadata": {},
   "source": [
    "**Now the data is ready**"
   ]
  },
  {
   "cell_type": "markdown",
   "id": "81084fb3",
   "metadata": {},
   "source": [
    "# 5. Kmeans clustering"
   ]
  },
  {
   "cell_type": "code",
   "execution_count": 27,
   "id": "9452ee73",
   "metadata": {},
   "outputs": [],
   "source": [
    "import os\n",
    "os.environ[\"OMP_NUM_THREADS\"] = \"1\""
   ]
  },
  {
   "cell_type": "code",
   "execution_count": 28,
   "id": "4abec10a",
   "metadata": {},
   "outputs": [],
   "source": [
    "from sklearn.cluster import KMeans"
   ]
  },
  {
   "cell_type": "code",
   "execution_count": 29,
   "id": "a5bb9449",
   "metadata": {},
   "outputs": [
    {
     "data": {
      "text/plain": [
       "array([4, 3, 4, 3, 4, 3, 4, 3, 4, 3, 4, 3, 4, 3, 4, 3, 4, 3, 4, 3, 4, 3,\n",
       "       4, 3, 4, 3, 4, 0, 4, 3, 4, 3, 4, 3, 4, 3, 4, 3, 4, 3, 0, 3, 0, 0,\n",
       "       4, 0, 0, 0, 0, 0, 0, 0, 0, 0, 0, 0, 0, 0, 0, 0, 0, 0, 0, 0, 0, 0,\n",
       "       0, 0, 0, 0, 0, 0, 0, 0, 5, 0, 0, 0, 0, 5, 0, 0, 5, 5, 0, 5, 0, 0,\n",
       "       0, 5, 5, 5, 5, 5, 5, 5, 5, 5, 5, 5, 5, 5, 5, 5, 5, 5, 5, 5, 5, 5,\n",
       "       5, 5, 5, 5, 5, 5, 5, 5, 5, 5, 5, 5, 5, 1, 6, 1, 5, 1, 6, 1, 6, 1,\n",
       "       5, 1, 6, 1, 6, 1, 6, 1, 6, 1, 5, 1, 6, 1, 5, 1, 6, 1, 6, 1, 6, 1,\n",
       "       6, 1, 6, 1, 6, 1, 5, 1, 6, 1, 6, 1, 6, 1, 6, 1, 6, 1, 6, 1, 6, 1,\n",
       "       6, 1, 6, 1, 2, 7, 2, 7, 2, 7, 2, 7, 2, 7, 2, 7, 2, 7, 2, 7, 2, 7,\n",
       "       2, 7])"
      ]
     },
     "execution_count": 29,
     "metadata": {},
     "output_type": "execute_result"
    }
   ],
   "source": [
    "k_means = KMeans()\n",
    "k_means.fit(data)\n",
    "k_means.fit_predict(data)"
   ]
  },
  {
   "cell_type": "markdown",
   "id": "82de15aa",
   "metadata": {},
   "source": [
    "The \"KMeans\" uses 8 clusters by default. I will implement **\"elbow method\"** to find the most appropriate number of clusters. "
   ]
  },
  {
   "cell_type": "markdown",
   "id": "a2b23aed",
   "metadata": {},
   "source": [
    "# 6. Elbow method"
   ]
  },
  {
   "cell_type": "code",
   "execution_count": 30,
   "id": "be7369e8",
   "metadata": {},
   "outputs": [
    {
     "name": "stderr",
     "output_type": "stream",
     "text": [
      "C:\\Users\\Admin\\anaconda3\\lib\\site-packages\\sklearn\\cluster\\_kmeans.py:881: UserWarning: KMeans is known to have a memory leak on Windows with MKL, when there are less chunks than available threads. You can avoid it by setting the environment variable OMP_NUM_THREADS=1.\n",
      "  warnings.warn(\n"
     ]
    }
   ],
   "source": [
    "wcss = []\n",
    "for i in range(1,11):\n",
    "    k_means = KMeans(n_clusters=i)\n",
    "    k_means.fit(data)\n",
    "    wcss.append(k_means.inertia_)"
   ]
  },
  {
   "cell_type": "code",
   "execution_count": 31,
   "id": "0cef1901",
   "metadata": {},
   "outputs": [
    {
     "data": {
      "image/png": "[encoded data removed]",
      "text/plain": [
       "<Figure size 432x288 with 1 Axes>"
      ]
     },
     "metadata": {
      "needs_background": "light"
     },
     "output_type": "display_data"
    }
   ],
   "source": [
    "plt.plot(range(1,11), wcss)\n",
    "plt.title('Elbow Method')\n",
    "plt.xlabel('Numbers of Clusters')\n",
    "plt.ylabel('WCSS')\n",
    "plt.show()"
   ]
  },
  {
   "cell_type": "markdown",
   "id": "f91b0fa6",
   "metadata": {},
   "source": [
    "Now I know the optimal number for clusters is **5**. It is time for model training."
   ]
  },
  {
   "cell_type": "markdown",
   "id": "5dec2d04",
   "metadata": {},
   "source": [
    "# 6. Model Training"
   ]
  },
  {
   "cell_type": "code",
   "execution_count": 34,
   "id": "d7333a01",
   "metadata": {},
   "outputs": [],
   "source": [
    "X = data"
   ]
  },
  {
   "cell_type": "code",
   "execution_count": 35,
   "id": "509616b4",
   "metadata": {},
   "outputs": [],
   "source": [
    "k_means = KMeans(n_clusters = 5, random_state = 42)\n",
    "y_means = k_means.fit_predict(X)"
   ]
  },
  {
   "cell_type": "code",
   "execution_count": 62,
   "id": "1312c0b5",
   "metadata": {},
   "outputs": [
    {
     "data": {
      "text/plain": [
       "<matplotlib.legend.Legend at 0x19efbf4b9a0>"
      ]
     },
     "execution_count": 62,
     "metadata": {},
     "output_type": "execute_result"
    },
    {
     "data": {
      "image/png": "[encoded data removed]",
      "text/plain": [
       "<Figure size 432x288 with 1 Axes>"
      ]
     },
     "metadata": {
      "needs_background": "light"
     },
     "output_type": "display_data"
    }
   ],
   "source": [
    "plt.scatter(X.iloc[y_means == 0,0], X.iloc[y_means == 0,1], s=100,c='red', label='Cluster 1')\n",
    "plt.scatter(X.iloc[y_means == 1,0], X.iloc[y_means == 1,1], s=100,c='yellow', label='Cluster 2')\n",
    "plt.scatter(X.iloc[y_means == 2,0], X.iloc[y_means == 2,1], s=100,c='green', label='Cluster 3')\n",
    "plt.scatter(X.iloc[y_means == 3,0], X.iloc[y_means == 3,1], s=100,c='blue', label='Cluster 4')\n",
    "plt.scatter(X.iloc[y_means == 4,0], X.iloc[y_means == 4,1], s=100,c='black', label='Cluster 5')\n",
    "plt.scatter(k_means.cluster_centers_[:,0],k_means.cluster_centers_[:,1], s =100, c='magenta')\n",
    "plt.title('Customer Segmentation')\n",
    "plt.xlabel('Annual Income Normalized')\n",
    "plt.ylabel('Spending Score Normalized')\n",
    "plt.legend()"
   ]
  },
  {
   "cell_type": "markdown",
   "id": "43e901d3",
   "metadata": {},
   "source": [
    "# 7. GUI"
   ]
  },
  {
   "cell_type": "code",
   "execution_count": 41,
   "id": "2b80653a",
   "metadata": {},
   "outputs": [],
   "source": [
    "from tkinter import *"
   ]
  },
  {
   "cell_type": "code",
   "execution_count": 67,
   "id": "e4e0fbc7",
   "metadata": {},
   "outputs": [],
   "source": [
    "def show_entry_fields():\n",
    "    p1 = int(e1.get())\n",
    "    p2 = int(e2.get())\n",
    "    input_data = [[p1, p2]]\n",
    "    input_data = np.array(input_data).reshape(1, -1)\n",
    "    scaled_input_data = scaler.transform(input_data)\n",
    "    \n",
    "    result = k_means.predict(scaled_input_data)\n",
    "    print('This customer belongs to cluster no: ', result[0])\n",
    "    \n",
    "    if result[0] == 0:\n",
    "        Label(master, text = \"Customers with medium annual income and medium spending score\").grid(row=4)\n",
    "    elif result[0] == 1:\n",
    "        Label(master, text = \"Customers with high annual income and low spending score\").grid(row=4)\n",
    "    elif result[0] == 2:\n",
    "        Label(master, text = \"Customers with low annual income and low spending score\").grid(row=4)\n",
    "    elif result[0] == 3:\n",
    "        Label(master, text = \"Customers with low annual income and high spending score\").grid(row=4)\n",
    "    elif result[0] == 4:\n",
    "        Label(master, text = \"Customers with high annual income and high spending score\").grid(row=4)\n",
    "        \n",
    "master = Tk()\n",
    "master.title('Customer Segmentation Using ML')\n",
    "\n",
    "label = Label(master, text='Customer Segmentation Using ML', bg=\"black\", fg='White').grid(row=0,columnspan = 2)\n",
    "label = Label(master, text='Annual Income (k$)').grid(row=1)\n",
    "label = Label(master, text='Spending Score(1-100)').grid(row=2)\n",
    "\n",
    "e1 = Entry(master)\n",
    "e2 = Entry(master)\n",
    "\n",
    "e1.grid(row=1,column=1)\n",
    "e2.grid(row=2,column=1)\n",
    "\n",
    "Button(master,text='Predict', command = show_entry_fields).grid()\n",
    "\n",
    "master.mainloop()"
   ]
  },
  {
   "cell_type": "code",
   "execution_count": null,
   "id": "4c110998",
   "metadata": {},
   "outputs": [],
   "source": []
  }
 ],
 "metadata": {
  "kernelspec": {
   "display_name": "Python 3 (ipykernel)",
   "language": "python",
   "name": "python3"
  },
  "language_info": {
   "codemirror_mode": {
    "name": "ipython",
    "version": 3
   },
   "file_extension": ".py",
   "mimetype": "text/x-python",
   "name": "python",
   "nbconvert_exporter": "python",
   "pygments_lexer": "ipython3",
   "version": "3.9.7"
  }
 },
 "nbformat": 4,
 "nbformat_minor": 5
}
